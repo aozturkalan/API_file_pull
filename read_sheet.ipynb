{
 "cells": [
  {
   "cell_type": "code",
   "execution_count": null,
   "metadata": {},
   "outputs": [],
   "source": [
    "\n",
    "import gspread\n",
    "from google.oauth2.service_account import Credentials\n",
    "import pandas as pd\n"
   ]
  },
  {
   "cell_type": "code",
   "execution_count": null,
   "metadata": {},
   "outputs": [],
   "source": [
    "SCOPES = ['https://www.googleapis.com/auth/spreadsheets.readonly']\n",
    "SERVICE_ACCOUNT_FILE = '/Users/aysegul/Documents/GitHub/API_dosya_cekme/sheets-access.json' \n",
    "\n",
    "credentials = Credentials.from_service_account_file(\n",
    "    SERVICE_ACCOUNT_FILE,\n",
    "    scopes=SCOPES\n",
    ")\n",
    "\n",
    "client = gspread.authorize(credentials)"
   ]
  },
  {
   "cell_type": "code",
   "execution_count": null,
   "metadata": {},
   "outputs": [],
   "source": [
    "SPREADSHEET_URL = \"https://docs.google.com/spreadsheets/d/1shG9jPQhwYKsPk-CnYAtrZtWG-AkALGeBHgJ0zOTLmc/edit#gid=0\"\n",
    "spreadsheet = client.open_by_url(SPREADSHEET_URL)\n",
    "worksheet = spreadsheet.sheet1"
   ]
  },
  {
   "cell_type": "code",
   "execution_count": null,
   "metadata": {},
   "outputs": [
    {
     "name": "stdout",
     "output_type": "stream",
     "text": [
      "       Channel        Campaign  Impressions  Clicks  Conversions  Spend (USD)  \\\n",
      "0   Google Ads     Summer_Sale        12000     950           48        300.0   \n",
      "1     Facebook     Summer_Sale        10000     720           30        200.0   \n",
      "2    Instagram     Summer_Sale         8000     500           25        180.0   \n",
      "3     LinkedIn       B2B_Offer         5000     240           10        150.0   \n",
      "4        Email    Weekly_Deals         3000     400           35         20.0   \n",
      "5   Google Ads     Winter_Sale        14000    1100           60        350.0   \n",
      "6     Facebook     Winter_Sale        11000     760           32        220.0   \n",
      "7    Instagram     Winter_Sale         9000     510           24        190.0   \n",
      "8      YouTube      Video_Ad_1        20000     820           22        400.0   \n",
      "9      Twitter      Flash_Deal         6000     300           12         90.0   \n",
      "10      TikTok  Product_Launch         7000     420           20        130.0   \n",
      "11  Google Ads  Product_Launch        15000    1200           58        360.0   \n",
      "12       Email  Product_Launch         2500     350           30         15.0   \n",
      "13    Facebook   NewYear_Deals         9500     700           28        210.0   \n",
      "14   Instagram   NewYear_Deals         8500     520           26        170.0   \n",
      "\n",
      "    Revenue (USD)  \n",
      "0          1250.0  \n",
      "1           800.0  \n",
      "2           650.0  \n",
      "3           500.0  \n",
      "4           450.0  \n",
      "5          1600.0  \n",
      "6           900.0  \n",
      "7           700.0  \n",
      "8          1000.0  \n",
      "9           300.0  \n",
      "10          500.0  \n",
      "11         1700.0  \n",
      "12          400.0  \n",
      "13          780.0  \n",
      "14          670.0  \n"
     ]
    }
   ],
   "source": [
    "data = worksheet.get_all_records()\n",
    "df = pd.DataFrame(data)\n",
    "\n",
    "print(df)"
   ]
  },
  {
   "cell_type": "code",
   "execution_count": null,
   "metadata": {},
   "outputs": [
    {
     "name": "stdout",
     "output_type": "stream",
     "text": [
      "       Channel        Campaign  Spend (USD)  Revenue (USD)       ROAS\n",
      "0   Google Ads     Summer_Sale        300.0         1250.0   4.166667\n",
      "1     Facebook     Summer_Sale        200.0          800.0   4.000000\n",
      "2    Instagram     Summer_Sale        180.0          650.0   3.611111\n",
      "3     LinkedIn       B2B_Offer        150.0          500.0   3.333333\n",
      "4        Email    Weekly_Deals         20.0          450.0  22.500000\n",
      "5   Google Ads     Winter_Sale        350.0         1600.0   4.571429\n",
      "6     Facebook     Winter_Sale        220.0          900.0   4.090909\n",
      "7    Instagram     Winter_Sale        190.0          700.0   3.684211\n",
      "8      YouTube      Video_Ad_1        400.0         1000.0   2.500000\n",
      "9      Twitter      Flash_Deal         90.0          300.0   3.333333\n",
      "10      TikTok  Product_Launch        130.0          500.0   3.846154\n",
      "11  Google Ads  Product_Launch        360.0         1700.0   4.722222\n",
      "12       Email  Product_Launch         15.0          400.0  26.666667\n",
      "13    Facebook   NewYear_Deals        210.0          780.0   3.714286\n",
      "14   Instagram   NewYear_Deals        170.0          670.0   3.941176\n"
     ]
    }
   ],
   "source": [
    "# ROAS hesapla (Revenue / Spend)\n",
    "df['ROAS'] = df['Revenue (USD)'] / df['Spend (USD)']\n",
    "\n",
    "# Sonuçları yazdır\n",
    "print(df[['Channel', 'Campaign', 'Spend (USD)', 'Revenue (USD)', 'ROAS']])"
   ]
  }
 ],
 "metadata": {
  "kernelspec": {
   "display_name": "venv",
   "language": "python",
   "name": "python3"
  },
  "language_info": {
   "codemirror_mode": {
    "name": "ipython",
    "version": 3
   },
   "file_extension": ".py",
   "mimetype": "text/x-python",
   "name": "python",
   "nbconvert_exporter": "python",
   "pygments_lexer": "ipython3",
   "version": "3.13.3"
  }
 },
 "nbformat": 4,
 "nbformat_minor": 2
}
